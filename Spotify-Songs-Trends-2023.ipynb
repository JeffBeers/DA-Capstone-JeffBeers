{
 "cells": [
  {
   "cell_type": "code",
   "execution_count": 1,
   "metadata": {},
   "outputs": [],
   "source": [
    "import pandas as pd"
   ]
  },
  {
   "cell_type": "code",
   "execution_count": 33,
   "metadata": {},
   "outputs": [],
   "source": [
    "file_path = '/Users/jeff/Documents/Code-Lou/2024-Projects/DA-Capstone-JeffBeers/spotify-2023.csv'"
   ]
  },
  {
   "cell_type": "code",
   "execution_count": 44,
   "metadata": {},
   "outputs": [],
   "source": [
    "columns_to_read = ['track_name', 'artist(s)_name', 'streams', 'in_spotify_charts', 'bpm', 'key', 'mode']"
   ]
  },
  {
   "cell_type": "code",
   "execution_count": 45,
   "metadata": {},
   "outputs": [],
   "source": [
    "df = pd.read_csv(file_path, usecols= columns_to_read, encoding='latin-1')"
   ]
  },
  {
   "cell_type": "code",
   "execution_count": 46,
   "metadata": {},
   "outputs": [
    {
     "name": "stdout",
     "output_type": "stream",
     "text": [
      "                              track_name      artist(s)_name  \\\n",
      "0    Seven (feat. Latto) (Explicit Ver.)    Latto, Jung Kook   \n",
      "1                                   LALA         Myke Towers   \n",
      "2                                vampire      Olivia Rodrigo   \n",
      "3                           Cruel Summer        Taylor Swift   \n",
      "4                         WHERE SHE GOES           Bad Bunny   \n",
      "..                                   ...                 ...   \n",
      "948                         My Mind & Me        Selena Gomez   \n",
      "949            Bigger Than The Whole Sky        Taylor Swift   \n",
      "950                 A Veces (feat. Feid)  Feid, Paulo Londra   \n",
      "951                        En La De Ella  Feid, Sech, Jhayco   \n",
      "952                                Alone           Burna Boy   \n",
      "\n",
      "     in_spotify_charts    streams  bpm key   mode  \n",
      "0                  147  141381703  125   B  Major  \n",
      "1                   48  133716286   92  C#  Major  \n",
      "2                  113  140003974  138   F  Major  \n",
      "3                  100  800840817  170   A  Major  \n",
      "4                   50  303236322  144   A  Minor  \n",
      "..                 ...        ...  ...  ..    ...  \n",
      "948                  0   91473363  144   A  Major  \n",
      "949                  0  121871870  166  F#  Major  \n",
      "950                  0   73513683   92  C#  Major  \n",
      "951                  0  133895612   97  C#  Major  \n",
      "952                  2   96007391   90   E  Minor  \n",
      "\n",
      "[953 rows x 7 columns]\n"
     ]
    }
   ],
   "source": [
    "print(df)"
   ]
  }
 ],
 "metadata": {
  "kernelspec": {
   "display_name": "Python 3.12.2 64-bit",
   "language": "python",
   "name": "python3"
  },
  "language_info": {
   "codemirror_mode": {
    "name": "ipython",
    "version": 3
   },
   "file_extension": ".py",
   "mimetype": "text/x-python",
   "name": "python",
   "nbconvert_exporter": "python",
   "pygments_lexer": "ipython3",
   "version": "3.12.2"
  },
  "orig_nbformat": 4,
  "vscode": {
   "interpreter": {
    "hash": "aee8b7b246df8f9039afb4144a1f6fd8d2ca17a180786b69acc140d282b71a49"
   }
  }
 },
 "nbformat": 4,
 "nbformat_minor": 2
}
